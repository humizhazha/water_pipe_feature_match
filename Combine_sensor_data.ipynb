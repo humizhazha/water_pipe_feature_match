{
 "cells": [
  {
   "cell_type": "code",
   "execution_count": 93,
   "metadata": {},
   "outputs": [],
   "source": [
    "import pandas as pd\n",
    "import os\n",
    "import datetime\n",
    "import numpy as np\n",
    "import seaborn as sns\n",
    "import matplotlib.pyplot as plt\n",
    "from datetime import date, timedelta\n",
    "import re\n",
    "from datetime import datetime\n",
    "import pickle"
   ]
  },
  {
   "cell_type": "code",
   "execution_count": 17,
   "metadata": {},
   "outputs": [],
   "source": [
    "path = './raw_data_1/'"
   ]
  },
  {
   "cell_type": "code",
   "execution_count": 98,
   "metadata": {
    "scrolled": true
   },
   "outputs": [
    {
     "data": {
      "text/plain": [
       "['00001290',\n",
       " '00001291',\n",
       " '00001293',\n",
       " '00001295',\n",
       " '00001297',\n",
       " '00001299',\n",
       " '00001300',\n",
       " '00001302',\n",
       " '00001304',\n",
       " '00001308',\n",
       " '00001309',\n",
       " '00001312',\n",
       " '00001313',\n",
       " '00001315',\n",
       " '00001319',\n",
       " '00001320',\n",
       " '00001321',\n",
       " '00001328',\n",
       " '00001329',\n",
       " '00001330',\n",
       " '00001332',\n",
       " '00001338',\n",
       " '00001341',\n",
       " '00001343',\n",
       " '00001344',\n",
       " '00001345',\n",
       " '00001346',\n",
       " '00001348',\n",
       " '00001349',\n",
       " '00001350',\n",
       " '00001352',\n",
       " '00001353',\n",
       " '00001354',\n",
       " '00001356',\n",
       " '00001357',\n",
       " '00001360',\n",
       " '00001361',\n",
       " '00001363',\n",
       " '00001364',\n",
       " '00001366',\n",
       " '00001370',\n",
       " '00001372',\n",
       " '00001373',\n",
       " '00001374',\n",
       " '00001375',\n",
       " '00001378']"
      ]
     },
     "execution_count": 98,
     "metadata": {},
     "output_type": "execute_result"
    }
   ],
   "source": [
    "sensor_id = os.listdir(path)\n",
    "sensor_id"
   ]
  },
  {
   "cell_type": "code",
   "execution_count": 100,
   "metadata": {},
   "outputs": [],
   "source": [
    "filehandler = open(\"sensor.obj\",\"wb\")\n",
    "pickle.dump(sensor_id,filehandler)\n",
    "filehandler.close()\n"
   ]
  },
  {
   "cell_type": "code",
   "execution_count": 101,
   "metadata": {},
   "outputs": [
    {
     "name": "stdout",
     "output_type": "stream",
     "text": [
      "00001290\n",
      "00001291\n",
      "00001293\n",
      "00001295\n",
      "00001297\n",
      "00001299\n",
      "00001300\n",
      "00001302\n",
      "00001304\n",
      "00001308\n",
      "00001309\n",
      "00001312\n",
      "00001313\n",
      "00001315\n",
      "00001319\n",
      "00001320\n",
      "00001321\n",
      "00001328\n",
      "00001329\n",
      "00001330\n",
      "00001332\n",
      "00001338\n",
      "00001341\n",
      "00001343\n",
      "00001344\n",
      "00001345\n",
      "00001346\n",
      "00001348\n",
      "00001349\n",
      "00001350\n",
      "00001352\n",
      "00001353\n",
      "00001354\n",
      "00001356\n",
      "00001357\n",
      "00001360\n",
      "00001361\n",
      "00001363\n",
      "00001364\n",
      "00001366\n",
      "00001370\n",
      "00001372\n",
      "00001373\n",
      "00001374\n",
      "00001375\n",
      "00001378\n"
     ]
    }
   ],
   "source": [
    "for sensor in sensor_id:\n",
    "    print(sensor)\n",
    "    sensor_info = {}\n",
    "    sensor_info['s_id']=[]\n",
    "    sensor_info['s_date'] = []\n",
    "    sensor_info['file_name']= []\n",
    "    for i in range(100):\n",
    "        level_name = 'Level_'+str(i+1)\n",
    "        freq_name = 'Freq_'+str(i+1)\n",
    "        sensor_info[level_name] = []\n",
    "        sensor_info[freq_name] = []\n",
    "    data_path = path+sensor+'/'\n",
    "    sensor_files = [i for i in os.listdir(data_path) if os.path.isfile(os.path.join(data_path,i)) and '.csv' in i and 'test'not in i and 'audio'not in i]\n",
    "\n",
    "    for file in sensor_files:\n",
    "        file_name = path+sensor+'/'+file\n",
    "        s_id = pd.read_csv(file_name,skiprows=7,nrows=1)\n",
    "        s_id = re.findall(r'\\d+', s_id.columns[0])[0]\n",
    "        s_date = pd.read_csv(file_name,skiprows=21,nrows=1)\n",
    "        s_date = re.findall(r'\\d+', s_date.columns[0])[0]\n",
    "        s_date = datetime.utcfromtimestamp(int(s_date)).strftime('%Y-%m-%d')\n",
    "        df = pd.read_csv(file_name,skiprows=26,nrows=100)\n",
    "        if 'Level[dB]' in df.columns:     \n",
    "            sensor_info['s_id'].append(s_id)\n",
    "            sensor_info['s_date'].append(s_date)\n",
    "            sensor_info['file_name'].append(file)\n",
    "            for i in range(100):\n",
    "                level_name = 'Level_'+str(i+1)\n",
    "                freq_name = 'Freq_'+str(i+1)\n",
    "                sensor_info[level_name].append(df.iloc[i]['Level[dB]'])\n",
    "                sensor_info[freq_name].append(df.iloc[i]['Frequency[Hz]'])\n",
    "    result = pd.DataFrame.from_dict(sensor_info)\n",
    "    result.to_csv(sensor+'.csv',index=False)\n"
   ]
  },
  {
   "cell_type": "code",
   "execution_count": 89,
   "metadata": {},
   "outputs": [
    {
     "data": {
      "text/plain": [
       "'./raw_data_1/00001332/exp_00001332g1504764059.csv'"
      ]
     },
     "execution_count": 89,
     "metadata": {},
     "output_type": "execute_result"
    }
   ],
   "source": [
    "file_name"
   ]
  },
  {
   "cell_type": "code",
   "execution_count": 64,
   "metadata": {},
   "outputs": [
    {
     "data": {
      "text/plain": [
       "'2018-01-30'"
      ]
     },
     "execution_count": 64,
     "metadata": {},
     "output_type": "execute_result"
    }
   ],
   "source": [
    "s_date"
   ]
  },
  {
   "cell_type": "code",
   "execution_count": 37,
   "metadata": {},
   "outputs": [
    {
     "data": {
      "text/plain": [
       "'id=48325'"
      ]
     },
     "execution_count": 37,
     "metadata": {},
     "output_type": "execute_result"
    }
   ],
   "source": [
    "s_id.columns[0]."
   ]
  },
  {
   "cell_type": "code",
   "execution_count": 42,
   "metadata": {},
   "outputs": [
    {
     "data": {
      "text/plain": [
       "48325"
      ]
     },
     "execution_count": 42,
     "metadata": {},
     "output_type": "execute_result"
    }
   ],
   "source": [
    "re.findall(r'\\d+', s_id.columns[0])[0]"
   ]
  },
  {
   "cell_type": "code",
   "execution_count": 61,
   "metadata": {},
   "outputs": [
    {
     "data": {
      "text/plain": [
       "'1517721601'"
      ]
     },
     "execution_count": 61,
     "metadata": {},
     "output_type": "execute_result"
    }
   ],
   "source": [
    "re.findall(r'\\d+', s_date.columns[0])[0]"
   ]
  },
  {
   "cell_type": "code",
   "execution_count": 71,
   "metadata": {},
   "outputs": [
    {
     "data": {
      "text/plain": [
       "Level[dB]         28\n",
       "Frequency[Hz]    150\n",
       "Name: 0, dtype: int64"
      ]
     },
     "execution_count": 71,
     "metadata": {},
     "output_type": "execute_result"
    }
   ],
   "source": [
    "df.iloc[0]"
   ]
  },
  {
   "cell_type": "code",
   "execution_count": 91,
   "metadata": {},
   "outputs": [
    {
     "data": {
      "text/plain": [
       "['00001290',\n",
       " '00001291',\n",
       " '00001293',\n",
       " '00001295',\n",
       " '00001297',\n",
       " '00001299',\n",
       " '00001300',\n",
       " '00001302',\n",
       " '00001304',\n",
       " '00001308',\n",
       " '00001309',\n",
       " '00001312',\n",
       " '00001313',\n",
       " '00001315',\n",
       " '00001319',\n",
       " '00001320',\n",
       " '00001321',\n",
       " '00001328',\n",
       " '00001329',\n",
       " '00001330',\n",
       " '00001332',\n",
       " '00001338',\n",
       " '00001341',\n",
       " '00001343',\n",
       " '00001344',\n",
       " '00001345',\n",
       " '00001346',\n",
       " '00001348',\n",
       " '00001349',\n",
       " '00001350',\n",
       " '00001352',\n",
       " '00001353',\n",
       " '00001354',\n",
       " '00001356',\n",
       " '00001357',\n",
       " '00001360',\n",
       " '00001361',\n",
       " '00001363',\n",
       " '00001364',\n",
       " '00001366',\n",
       " '00001370',\n",
       " '00001372',\n",
       " '00001373',\n",
       " '00001374',\n",
       " '00001375',\n",
       " '00001378']"
      ]
     },
     "execution_count": 91,
     "metadata": {},
     "output_type": "execute_result"
    }
   ],
   "source": [
    "path2 = './raw_data_2/Seba_water_CBD'\n",
    "sensor_id = os.listdir(path)\n",
    "sensor_id"
   ]
  },
  {
   "cell_type": "code",
   "execution_count": null,
   "metadata": {},
   "outputs": [],
   "source": []
  }
 ],
 "metadata": {
  "kernelspec": {
   "display_name": "Python 3",
   "language": "python",
   "name": "python3"
  },
  "language_info": {
   "codemirror_mode": {
    "name": "ipython",
    "version": 3
   },
   "file_extension": ".py",
   "mimetype": "text/x-python",
   "name": "python",
   "nbconvert_exporter": "python",
   "pygments_lexer": "ipython3",
   "version": "3.7.1"
  }
 },
 "nbformat": 4,
 "nbformat_minor": 2
}
